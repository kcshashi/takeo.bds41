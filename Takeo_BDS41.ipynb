{
  "nbformat": 4,
  "nbformat_minor": 0,
  "metadata": {
    "colab": {
      "provenance": [],
      "authorship_tag": "ABX9TyOma2cOi1H+ojvlmhLeaEuq",
      "include_colab_link": true
    },
    "kernelspec": {
      "name": "python3",
      "display_name": "Python 3"
    },
    "language_info": {
      "name": "python"
    }
  },
  "cells": [
    {
      "cell_type": "markdown",
      "metadata": {
        "id": "view-in-github",
        "colab_type": "text"
      },
      "source": [
        "<a href=\"https://colab.research.google.com/github/kcshashi/takeo.bds41/blob/main/Takeo_BDS41.ipynb\" target=\"_parent\"><img src=\"https://colab.research.google.com/assets/colab-badge.svg\" alt=\"Open In Colab\"/></a>"
      ]
    },
    {
      "cell_type": "code",
      "execution_count": null,
      "metadata": {
        "id": "BK8_k7-dvwOY",
        "colab": {
          "base_uri": "https://localhost:8080/"
        },
        "outputId": "3b9d703f-79e8-48f8-ca0c-c0675f3d7ed3"
      },
      "outputs": [
        {
          "output_type": "stream",
          "name": "stdout",
          "text": [
            "i am shashi\n"
          ]
        }
      ],
      "source": [
        "print (\"i am shashi\")"
      ]
    },
    {
      "cell_type": "code",
      "source": [
        "mobile= 9802325652\n",
        "print(mobile, type(mobile))\n",
        "percent = 78.38\n",
        "print (percent, type(percent))\n",
        "complx = 12+13j+14j\n",
        "print(complx, type(complx))\n",
        "visa = True\n",
        "print(visa, type(visa))\n",
        "name= 'shashi kc'\n",
        "print(name, type(name))\n",
        "name= \"shashi kc\"\n",
        "print(name, type(name))\n",
        "name= '''shashi kc'''\n",
        "print(name, type(name))\n",
        "name= \"\"\"shashi kc\"\"\"\n",
        "print(name, type(name))"
      ],
      "metadata": {
        "id": "wXvA7Z3_90R3",
        "colab": {
          "base_uri": "https://localhost:8080/"
        },
        "outputId": "25f4e87e-78d2-48da-dd00-e88a276809f9"
      },
      "execution_count": null,
      "outputs": [
        {
          "output_type": "stream",
          "name": "stdout",
          "text": [
            "9802325652 <class 'int'>\n",
            "78.38 <class 'float'>\n",
            "(12+27j) <class 'complex'>\n",
            "True <class 'bool'>\n",
            "shashi kc <class 'str'>\n",
            "shashi kc <class 'str'>\n",
            "shashi kc <class 'str'>\n",
            "shashi kc <class 'str'>\n"
          ]
        }
      ]
    },
    {
      "cell_type": "markdown",
      "source": [],
      "metadata": {
        "id": "apoXhAKa91Kw"
      }
    },
    {
      "cell_type": "code",
      "source": [
        "var_name = \"Shashi\"\n",
        "print (var_name)\n",
        "print(type(var_name))\n"
      ],
      "metadata": {
        "id": "T_tgxaUl92lv"
      },
      "execution_count": null,
      "outputs": []
    },
    {
      "cell_type": "code",
      "source": [
        "var_name = \"Shashi\"\n",
        "print (var_name)\n",
        "print(type(var_name))\n",
        "var_name = \"shashikc04@gmail.com\"\n",
        "print(type(var_name))\n",
        "var_name = 27\n",
        "print (var_name)\n",
        "print(type(var_name))\n",
        "var_name = \"H1B\"\n",
        "print (var_name)\n",
        "print(type(var_name))\n",
        "var_name = 82.36\n",
        "print (var_name)\n",
        "print(type(var_name))\n",
        "\n",
        "\n",
        "\n",
        "\n"
      ],
      "metadata": {
        "colab": {
          "base_uri": "https://localhost:8080/"
        },
        "id": "rZBODg5w-N1A",
        "outputId": "2254ba7a-4a30-43e4-e08f-557496c458af"
      },
      "execution_count": null,
      "outputs": [
        {
          "output_type": "stream",
          "name": "stdout",
          "text": [
            "Shashi\n",
            "<class 'str'>\n",
            "<class 'str'>\n",
            "27\n",
            "<class 'int'>\n",
            "H1B\n",
            "<class 'str'>\n",
            "82.36\n",
            "<class 'float'>\n"
          ]
        }
      ]
    },
    {
      "cell_type": "code",
      "source": [
        "lst1=['apple','ball',\"cat\", 'dog']\n",
        "print(lst1,type(lst1))\n",
        "tup1 =('thor','iron man','hulk' 'cap america')\n",
        "print(tup1,type(tup1))\n",
        "set1={0,'b',2, 45, 6, 0.1, 'a', 52.23,\"ram\", 'z', 12.23, True, False}\n",
        "print(set1,type(set1))\n"
      ],
      "metadata": {
        "colab": {
          "base_uri": "https://localhost:8080/"
        },
        "id": "SAt1F1SywG2U",
        "outputId": "c061543f-3366-4794-970d-2bb1e603ceab"
      },
      "execution_count": null,
      "outputs": [
        {
          "output_type": "stream",
          "name": "stdout",
          "text": [
            "['apple', 'ball', 'cat', 'dog'] <class 'list'>\n",
            "('thor', 'iron man', 'hulkcap america') <class 'tuple'>\n",
            "{0, 0.1, 2, 'a', True, 6, 12.23, 45, 'ram', 'z', 52.23, 'b'} <class 'set'>\n"
          ]
        }
      ]
    },
    {
      "cell_type": "code",
      "source": [
        "lst1=[12,23,34,45,56,67,78,89,90]\n",
        "lst1[::]\n",
        "lst1[2:6:]\n",
        "lst1[-1:-(len(lst1)+1):-1]\n",
        "lst1[-6::-1]\n",
        "lst1[-4:-8:-1]"
      ],
      "metadata": {
        "colab": {
          "base_uri": "https://localhost:8080/"
        },
        "id": "2-dxckQVCYoQ",
        "outputId": "ccb0ac82-5ada-4cfc-9b8b-1e290ce4a16a"
      },
      "execution_count": 16,
      "outputs": [
        {
          "output_type": "execute_result",
          "data": {
            "text/plain": [
              "[67, 56, 45, 34]"
            ]
          },
          "metadata": {},
          "execution_count": 16
        }
      ]
    },
    {
      "cell_type": "code",
      "source": [
        "lst=[1,2,3,4,5,6,7,8,9]\n",
        "lst[0::4]\n",
        "lst[0:len(lst):3]\n",
        "lst[1:8:3]"
      ],
      "metadata": {
        "colab": {
          "base_uri": "https://localhost:8080/"
        },
        "id": "xb80H0Fo4nWv",
        "outputId": "83f9357e-7420-430a-b5a0-829a647943c2"
      },
      "execution_count": 28,
      "outputs": [
        {
          "output_type": "execute_result",
          "data": {
            "text/plain": [
              "[2, 5, 8]"
            ]
          },
          "metadata": {},
          "execution_count": 28
        }
      ]
    },
    {
      "cell_type": "code",
      "source": [
        "lst1=[12,23,34,45,56,67,78,89,90]\n",
        "lst1[6::1]"
      ],
      "metadata": {
        "colab": {
          "base_uri": "https://localhost:8080/"
        },
        "id": "ZJ9ulk708-Xk",
        "outputId": "c23502b3-3c7c-426d-8f70-50c9fb848c96"
      },
      "execution_count": 29,
      "outputs": [
        {
          "output_type": "execute_result",
          "data": {
            "text/plain": [
              "[78, 89, 90]"
            ]
          },
          "metadata": {},
          "execution_count": 29
        }
      ]
    },
    {
      "cell_type": "code",
      "source": [
        "lst1=[12,23,34,45,56,67,78,89,90]\n",
        "lst1[-8::2]"
      ],
      "metadata": {
        "colab": {
          "base_uri": "https://localhost:8080/"
        },
        "id": "p4KM71O6AGCg",
        "outputId": "e7ef9a6c-baf4-4da3-f1f2-a36c04e79c97"
      },
      "execution_count": 33,
      "outputs": [
        {
          "output_type": "execute_result",
          "data": {
            "text/plain": [
              "[23, 45, 67, 89]"
            ]
          },
          "metadata": {},
          "execution_count": 33
        }
      ]
    },
    {
      "cell_type": "code",
      "source": [
        "lst1=[12,23,34,45,56,67,78,89,90]\n",
        "lst1[-1:-10:-1]"
      ],
      "metadata": {
        "colab": {
          "base_uri": "https://localhost:8080/"
        },
        "id": "GclfBMUrAfFa",
        "outputId": "362b4a2d-6924-4a9a-87d6-d85a0329d782"
      },
      "execution_count": 37,
      "outputs": [
        {
          "output_type": "execute_result",
          "data": {
            "text/plain": [
              "[90, 89, 78, 67, 56, 45, 34, 23, 12]"
            ]
          },
          "metadata": {},
          "execution_count": 37
        }
      ]
    },
    {
      "cell_type": "code",
      "source": [
        "lst1=[12,23,34,45,56,67,78,89,90]\n",
        "lst1[:5:-1]"
      ],
      "metadata": {
        "colab": {
          "base_uri": "https://localhost:8080/"
        },
        "id": "7MjOI-wuA1ac",
        "outputId": "42b98b56-a379-45df-9f83-f344115f771f"
      },
      "execution_count": 38,
      "outputs": [
        {
          "output_type": "execute_result",
          "data": {
            "text/plain": [
              "[90, 89, 78]"
            ]
          },
          "metadata": {},
          "execution_count": 38
        }
      ]
    },
    {
      "cell_type": "code",
      "source": [
        "a=10\n",
        "b=7\n",
        "print(a+b)\n"
      ],
      "metadata": {
        "colab": {
          "base_uri": "https://localhost:8080/"
        },
        "id": "CzSBUfadENTC",
        "outputId": "fade3397-2d36-4576-f5bb-5c792f88b9a3"
      },
      "execution_count": 39,
      "outputs": [
        {
          "output_type": "stream",
          "name": "stdout",
          "text": [
            "17\n"
          ]
        }
      ]
    },
    {
      "cell_type": "code",
      "source": [
        "a=10\n",
        "b=7\n",
        "print(a-b)\n"
      ],
      "metadata": {
        "colab": {
          "base_uri": "https://localhost:8080/"
        },
        "id": "p65arBWCFFJ4",
        "outputId": "af045d38-77c3-40d9-f01b-35af00b7d29a"
      },
      "execution_count": 40,
      "outputs": [
        {
          "output_type": "stream",
          "name": "stdout",
          "text": [
            "3\n"
          ]
        }
      ]
    },
    {
      "cell_type": "code",
      "source": [
        "a=10\n",
        "b=7\n",
        "print(a*b)"
      ],
      "metadata": {
        "colab": {
          "base_uri": "https://localhost:8080/"
        },
        "id": "5XVkPhiVFIAq",
        "outputId": "ef9648e2-4c8f-4b6d-8a8a-a64238249d28"
      },
      "execution_count": 41,
      "outputs": [
        {
          "output_type": "stream",
          "name": "stdout",
          "text": [
            "70\n"
          ]
        }
      ]
    },
    {
      "cell_type": "code",
      "source": [
        "a=10\n",
        "b=7\n",
        "print(a/b)"
      ],
      "metadata": {
        "colab": {
          "base_uri": "https://localhost:8080/"
        },
        "id": "GKc3RsJWFMfZ",
        "outputId": "39393a8b-ab86-4b14-ccaa-66c7c47e99af"
      },
      "execution_count": 43,
      "outputs": [
        {
          "output_type": "stream",
          "name": "stdout",
          "text": [
            "1.4285714285714286\n"
          ]
        }
      ]
    },
    {
      "cell_type": "code",
      "source": [
        "a=10\n",
        "b=7\n",
        "print(a%b)"
      ],
      "metadata": {
        "colab": {
          "base_uri": "https://localhost:8080/"
        },
        "id": "zEuLPna5FRu4",
        "outputId": "f55d3db3-bbb5-4913-8c08-6ef0738e28fd"
      },
      "execution_count": 44,
      "outputs": [
        {
          "output_type": "stream",
          "name": "stdout",
          "text": [
            "3\n"
          ]
        }
      ]
    },
    {
      "cell_type": "code",
      "source": [
        "a=49\n",
        "b=7\n",
        "print(a//b)"
      ],
      "metadata": {
        "colab": {
          "base_uri": "https://localhost:8080/"
        },
        "id": "Vn2GEtACFXdu",
        "outputId": "f20465d5-de0c-4f6a-f56a-223d717d9803"
      },
      "execution_count": 47,
      "outputs": [
        {
          "output_type": "stream",
          "name": "stdout",
          "text": [
            "7\n"
          ]
        }
      ]
    },
    {
      "cell_type": "code",
      "source": [
        "a=10\n",
        "b=7\n",
        "print(a**b)"
      ],
      "metadata": {
        "colab": {
          "base_uri": "https://localhost:8080/"
        },
        "id": "B-5bQg1UFdHO",
        "outputId": "5b8bee72-3862-4ac8-d5dd-7fdebc0b5ef6"
      },
      "execution_count": 46,
      "outputs": [
        {
          "output_type": "stream",
          "name": "stdout",
          "text": [
            "10000000\n"
          ]
        }
      ]
    },
    {
      "cell_type": "code",
      "source": [
        "a=10\n",
        "b=5\n",
        "a+=b\n",
        "print(a)"
      ],
      "metadata": {
        "colab": {
          "base_uri": "https://localhost:8080/"
        },
        "id": "VJNUs0nbH5I2",
        "outputId": "f2917285-4ae0-4bcd-db3d-6ec85731950d"
      },
      "execution_count": 48,
      "outputs": [
        {
          "output_type": "stream",
          "name": "stdout",
          "text": [
            "15\n"
          ]
        }
      ]
    },
    {
      "cell_type": "code",
      "source": [
        "a=10\n",
        "b=5\n",
        "print(a==b)"
      ],
      "metadata": {
        "colab": {
          "base_uri": "https://localhost:8080/"
        },
        "id": "mFAzCqoVItp2",
        "outputId": "c40f6458-418c-429a-e6f7-3987e97c64d6"
      },
      "execution_count": 58,
      "outputs": [
        {
          "output_type": "stream",
          "name": "stdout",
          "text": [
            "False\n"
          ]
        }
      ]
    },
    {
      "cell_type": "code",
      "source": [
        "a=12\n",
        "b=5\n",
        "a!=b\n",
        "print(a!=b)"
      ],
      "metadata": {
        "colab": {
          "base_uri": "https://localhost:8080/"
        },
        "id": "2Bu3RV5LLCl5",
        "outputId": "90edfe25-9596-4fd0-c85c-3c6dd9c95787"
      },
      "execution_count": 57,
      "outputs": [
        {
          "output_type": "stream",
          "name": "stdout",
          "text": [
            "True\n"
          ]
        }
      ]
    },
    {
      "cell_type": "code",
      "source": [
        "a=12\n",
        "b=5\n",
        "print(a>b)\n"
      ],
      "metadata": {
        "colab": {
          "base_uri": "https://localhost:8080/"
        },
        "id": "n9sxHorBLQ70",
        "outputId": "ea483227-7f2b-4533-acba-44a86c0b2ca7"
      },
      "execution_count": 56,
      "outputs": [
        {
          "output_type": "stream",
          "name": "stdout",
          "text": [
            "True\n"
          ]
        }
      ]
    },
    {
      "cell_type": "code",
      "source": [
        "a=12\n",
        "b=5\n",
        "print(a<b)"
      ],
      "metadata": {
        "colab": {
          "base_uri": "https://localhost:8080/"
        },
        "id": "i5Zcpy5TLpDp",
        "outputId": "d27636b4-6576-4973-e494-2f40d32842fd"
      },
      "execution_count": 59,
      "outputs": [
        {
          "output_type": "stream",
          "name": "stdout",
          "text": [
            "False\n"
          ]
        }
      ]
    },
    {
      "cell_type": "code",
      "source": [
        "a=12\n",
        "b=5\n",
        "print(a<=b)"
      ],
      "metadata": {
        "colab": {
          "base_uri": "https://localhost:8080/"
        },
        "id": "XUra_hZIL0sT",
        "outputId": "cad2a895-6ab8-46b4-d774-14c39f5753ed"
      },
      "execution_count": 60,
      "outputs": [
        {
          "output_type": "stream",
          "name": "stdout",
          "text": [
            "False\n"
          ]
        }
      ]
    },
    {
      "cell_type": "code",
      "source": [
        "a=12\n",
        "b=5\n",
        "print(a>=b)"
      ],
      "metadata": {
        "colab": {
          "base_uri": "https://localhost:8080/"
        },
        "id": "0MiDG7xGL23t",
        "outputId": "10bbdd83-7c14-4ae7-e62c-2af6264fe2ea"
      },
      "execution_count": 62,
      "outputs": [
        {
          "output_type": "stream",
          "name": "stdout",
          "text": [
            "True\n"
          ]
        }
      ]
    },
    {
      "cell_type": "code",
      "source": [
        "x = 5\n",
        "\n",
        "print(x > 3 and x < 10)"
      ],
      "metadata": {
        "colab": {
          "base_uri": "https://localhost:8080/"
        },
        "id": "h1bnd2n4MnSd",
        "outputId": "7f03e8e3-e42a-49be-f5f8-f327e37b433b"
      },
      "execution_count": 65,
      "outputs": [
        {
          "output_type": "stream",
          "name": "stdout",
          "text": [
            "True\n"
          ]
        }
      ]
    },
    {
      "cell_type": "code",
      "source": [
        "x = 5\n",
        "\n",
        "print(x > 3 or x < 4)"
      ],
      "metadata": {
        "colab": {
          "base_uri": "https://localhost:8080/"
        },
        "id": "I_XjLRr_NTD6",
        "outputId": "a98d92a2-8c05-4929-e795-b5cf8a99b395"
      },
      "execution_count": 66,
      "outputs": [
        {
          "output_type": "stream",
          "name": "stdout",
          "text": [
            "True\n"
          ]
        }
      ]
    },
    {
      "cell_type": "code",
      "source": [
        "x = 5\n",
        "\n",
        "print(not(x > 3 and x < 10))\n"
      ],
      "metadata": {
        "colab": {
          "base_uri": "https://localhost:8080/"
        },
        "id": "OhX3_7daNXA_",
        "outputId": "cfc61a80-7c06-4555-e75d-23e8dbc341fe"
      },
      "execution_count": 67,
      "outputs": [
        {
          "output_type": "stream",
          "name": "stdout",
          "text": [
            "False\n"
          ]
        }
      ]
    },
    {
      "cell_type": "code",
      "source": [],
      "metadata": {
        "id": "-C4PimdWN-Tz"
      },
      "execution_count": null,
      "outputs": []
    }
  ]
}